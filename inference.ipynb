{
 "cells": [
  {
   "cell_type": "code",
   "execution_count": 1,
   "metadata": {},
   "outputs": [],
   "source": [
    "from models.gpt2 import GPT2\n",
    "from utils.tokenizer import trained_tokenizer"
   ]
  },
  {
   "cell_type": "code",
   "execution_count": 2,
   "metadata": {},
   "outputs": [],
   "source": [
    "model = GPT2.load_from_checkpoint(\"checkpoints/prerelease-epoch=00-val_loss=1.63.ckpt\")\n",
    "model.eval()\n",
    "\n",
    "tokenizer = trained_tokenizer(\".cache/trained_tokenizer/\")"
   ]
  },
  {
   "cell_type": "code",
   "execution_count": 3,
   "metadata": {},
   "outputs": [
    {
     "name": "stdout",
     "output_type": "stream",
     "text": [
      "tensor([[431, 447]], device='cuda:0')\n"
     ]
    }
   ],
   "source": [
    "text = \"Once upon\"\n",
    "input_ids = tokenizer.encode(text, return_tensors=\"pt\").to(model.device)\n",
    "\n",
    "print(input_ids)"
   ]
  },
  {
   "cell_type": "code",
   "execution_count": 4,
   "metadata": {},
   "outputs": [
    {
     "name": "stderr",
     "output_type": "stream",
     "text": [
      "The attention mask is not set and cannot be inferred from input because pad token is same as eos token. As a consequence, you may observe unexpected behavior. Please pass your input's `attention_mask` to obtain reliable results.\n"
     ]
    },
    {
     "data": {
      "text/plain": [
       "[\"pe�inist- Nalinabardineers/ot out will 19eteriffti inv/ong we-'sewin L- acnder/oties willith e- v eal al c |/\\x0b\\x0bir Rke C- forir- e Rist wust beenantersalib make's its haveate wust been/ had Tke C- forJgilust been-il Uillithvelnderant\\x0b\\x0bir has wer Vatcedith Tnder/otalop womein te by/otcedith Tnderat Dinade B tr/air ealist wust been-ers has beenatident Tkearker tr's D/ brke C- forJcom manychil their e-ers/ un Oinase byant\\x0b\\x0biralop wome Tnderichat 2 has been/otalop womein te by/ot how ('s canillith Tnderatillith Tnder/! ( we you-ersat Tke has wer V willith Tnder/im Din thesele we aber Vat Derson B tr/!/! ( we-ersat Tke has beenatersalop womein te by/!/! ( we you-ersian Sh wayoth s wver impith Tnderat Tnder/otian Sh wayoth s wver impith Tnderat Tnder/!!!!!!!!!!!!!!!!/!!!/!!!/!!/!!/!/!/!/!/!!/!/!/!!/!/!/!/!/!/!/!!/!!/!/!/!/!/!/!/!!/!!/!/!/!!/!!/!/!/!/!/!/!/!/!/!!!/!/!!!!!/!/!/!/!/!/!/!/!/!/!/!/!/!/!/!/!/!/!/!/!/!/!/!/!/!/!/!/!/!/!/!/!/!/!/!/!/!/!/!/!/!\"]"
      ]
     },
     "execution_count": 4,
     "metadata": {},
     "output_type": "execute_result"
    }
   ],
   "source": [
    "model.test_step({\"input_ids\": input_ids}, 0)"
   ]
  }
 ],
 "metadata": {
  "kernelspec": {
   "display_name": "dl",
   "language": "python",
   "name": "python3"
  },
  "language_info": {
   "codemirror_mode": {
    "name": "ipython",
    "version": 3
   },
   "file_extension": ".py",
   "mimetype": "text/x-python",
   "name": "python",
   "nbconvert_exporter": "python",
   "pygments_lexer": "ipython3",
   "version": "3.12.4"
  }
 },
 "nbformat": 4,
 "nbformat_minor": 2
}
